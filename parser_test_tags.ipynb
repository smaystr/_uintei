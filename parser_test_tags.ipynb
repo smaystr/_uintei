{
 "cells": [
  {
   "cell_type": "code",
   "execution_count": 6,
   "metadata": {},
   "outputs": [
    {
     "name": "stdout",
     "output_type": "stream",
     "text": [
      "//div[ contains(@class, 'm11') and contains(@class, 'h39') and contains(@class, 'ff6') and contains(@class, 'fs18') and contains(@class, 'fc0') and contains(@class, 'sc0') and contains(@class, 'ls0') and contains(@class, 'ws1d')  ]\n",
      "//div[ contains(@class, 'm14') and contains(@class, 'h41') and contains(@class, 'ff3') and contains(@class, 'fs1c') and contains(@class, 'fc0') and contains(@class, 'sc0') and contains(@class, 'ls0')  ]\n",
      "//div[ contains(@class, 'm4') and contains(@class, 'h9') and contains(@class, 'ff1') and contains(@class, 'fs5') and contains(@class, 'fc0') and contains(@class, 'sc0') and contains(@class, 'ls0')  ]\n",
      "//div[ contains(@class, 'mb') and contains(@class, 'h1c') and contains(@class, 'ff6') and contains(@class, 'fsd') and contains(@class, 'fc0') and contains(@class, 'sc0') and contains(@class, 'ls0')  ]\n",
      "//div[ contains(@class, 'mb') and contains(@class, 'h35') and contains(@class, 'ff6') and contains(@class, 'fs16') and contains(@class, 'fc0') and contains(@class, 'sc0') and contains(@class, 'ls0') and contains(@class, 'ws19')  ]\n",
      "//div[ contains(@class, 'm4') and contains(@class, 'h1d') and contains(@class, 'ff1') and contains(@class, 'fs5') and contains(@class, 'fc0') and contains(@class, 'sc0') and contains(@class, 'ls0') and contains(@class, 'ws0')  ]\n",
      "//div[ contains(@class, 'me') and contains(@class, 'h2f') and contains(@class, 'ff5') and contains(@class, 'fs14') and contains(@class, 'fc0') and contains(@class, 'sc0') and contains(@class, 'ls0') and contains(@class, 'ws16')  ]\n",
      "//div[ contains(@class, 'mc') and contains(@class, 'h1e') and contains(@class, 'ff3') and contains(@class, 'fs10') and contains(@class, 'fc0') and contains(@class, 'sc0') and contains(@class, 'ls0')  ]\n",
      "//div[ contains(@class, 'mb') and contains(@class, 'h36') and contains(@class, 'ff6') and contains(@class, 'fs16') and contains(@class, 'fc0') and contains(@class, 'sc0') and contains(@class, 'ls0') and contains(@class, 'ws1a')  ]\n",
      "//div[ contains(@class, 'm14') and contains(@class, 'h41') and contains(@class, 'ff1') and contains(@class, 'fs1c') and contains(@class, 'fc0') and contains(@class, 'sc0') and contains(@class, 'ls0') and contains(@class, 'ws30')  ]\n",
      "//div[ contains(@class, 'mc') and contains(@class, 'h1e') and contains(@class, 'ff3') and contains(@class, 'fs10') and contains(@class, 'fc0') and contains(@class, 'sc0') and contains(@class, 'ls0') and contains(@class, 'wsf')  ]\n",
      "//div[ contains(@class, 'm1') and contains(@class, 'h57') and contains(@class, 'ff1') and contains(@class, 'fs2b') and contains(@class, 'fc0') and contains(@class, 'sc0') and contains(@class, 'ls0')  ]\n",
      "//div[ contains(@class, 'm1')  ]\n",
      "//div[ contains(@class, 'h57')  ]\n"
     ]
    }
   ],
   "source": [
    "review_cls = [('m11', 'h39', 'ff6', 'fs18', 'fc0', 'sc0', 'ls0', 'ws1d'), \n",
    "              ('m14', 'h41', 'ff3', 'fs1c', 'fc0', 'sc0', 'ls0'), \n",
    "              ('m4', 'h9', 'ff1', 'fs5', 'fc0', 'sc0', 'ls0'), \n",
    "              ('mb', 'h1c', 'ff6', 'fsd', 'fc0', 'sc0', 'ls0'), \n",
    "              ('mb', 'h35', 'ff6', 'fs16', 'fc0', 'sc0', 'ls0', 'ws19'), \n",
    "              ('m4', 'h1d', 'ff1', 'fs5', 'fc0', 'sc0', 'ls0', 'ws0'), \n",
    "              ('me', 'h2f', 'ff5', 'fs14', 'fc0', 'sc0', 'ls0', 'ws16'), \n",
    "              ('mc', 'h1e', 'ff3', 'fs10', 'fc0', 'sc0', 'ls0'), \n",
    "              ('mb', 'h36', 'ff6', 'fs16', 'fc0', 'sc0', 'ls0', 'ws1a'), \n",
    "              ('m14', 'h41', 'ff1', 'fs1c', 'fc0', 'sc0', 'ls0', 'ws30'), \n",
    "              ('mc', 'h1e', 'ff3', 'fs10', 'fc0', 'sc0', 'ls0', 'wsf'), \n",
    "              ('m1', 'h57', 'ff1', 'fs2b', 'fc0', 'sc0', 'ls0'),\n",
    "              ('m1',),\n",
    "              ('h57',),\n",
    "             ]\n",
    "\n",
    "\n",
    "\n",
    "\n",
    "for line in review_cls:\n",
    "    mask = [\"contains(@class, '{}') {} \".format(cls, 'and' if (len(line) > 1)and(counter+1 < len(line))else \"\") for counter, cls in enumerate(line)]\n",
    "    mask = \"\".join(map(str, mask))\n",
    "    mask = \"//div[ {}]\".format(mask)\n",
    "    print(mask)\n"
   ]
  }
 ],
 "metadata": {
  "kernelspec": {
   "display_name": "Python 2",
   "language": "python",
   "name": "python2"
  },
  "language_info": {
   "codemirror_mode": {
    "name": "ipython",
    "version": 2
   },
   "file_extension": ".py",
   "mimetype": "text/x-python",
   "name": "python",
   "nbconvert_exporter": "python",
   "pygments_lexer": "ipython2",
   "version": "2.7.15"
  }
 },
 "nbformat": 4,
 "nbformat_minor": 1
}
